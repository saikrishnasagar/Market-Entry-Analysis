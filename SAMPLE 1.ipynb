{
 "cells": [
  {
   "cell_type": "code",
   "execution_count": 1,
   "id": "4234c0da",
   "metadata": {},
   "outputs": [],
   "source": [
    "import pandas as pd\n",
    "from sklearn.model_selection import train_test_split\n",
    "from sklearn.preprocessing import LabelEncoder, StandardScaler\n",
    "from sklearn.linear_model import LogisticRegression\n",
    "from sklearn.metrics import classification_report, confusion_matrix"
   ]
  },
  {
   "cell_type": "code",
   "execution_count": 2,
   "id": "54652256",
   "metadata": {},
   "outputs": [],
   "source": [
    "japanese_data = pd.read_excel(\"JPN Data.xlsx\")\n",
    "indian_data = pd.read_excel(\"IN_Data.xlsx\")"
   ]
  },
  {
   "cell_type": "code",
   "execution_count": 3,
   "id": "c411028f",
   "metadata": {},
   "outputs": [],
   "source": [
    "le = LabelEncoder()\n",
    "japanese_data['GENDER_ENC'] = le.fit_transform(japanese_data['GENDER'])"
   ]
  },
  {
   "cell_type": "code",
   "execution_count": 4,
   "id": "5607e92f",
   "metadata": {},
   "outputs": [],
   "source": [
    "features = ['CURR_AGE', 'GENDER_ENC', 'ANN_INCOME', 'AGE_CAR']\n",
    "target = 'PURCHASE'"
   ]
  },
  {
   "cell_type": "code",
   "execution_count": 5,
   "id": "5a2b42f5",
   "metadata": {},
   "outputs": [],
   "source": [
    "X = japanese_data[features]\n",
    "y = japanese_data[target]"
   ]
  },
  {
   "cell_type": "code",
   "execution_count": 6,
   "id": "8aaed94e",
   "metadata": {},
   "outputs": [],
   "source": [
    "scaler = StandardScaler()\n",
    "X_scaled = scaler.fit_transform(X)"
   ]
  },
  {
   "cell_type": "code",
   "execution_count": 7,
   "id": "a81b45ab",
   "metadata": {},
   "outputs": [],
   "source": [
    "X_train, X_test, y_train, y_test = train_test_split(X_scaled, y, test_size=0.2, random_state=42)"
   ]
  },
  {
   "cell_type": "code",
   "execution_count": 8,
   "id": "9a39c66c",
   "metadata": {},
   "outputs": [
    {
     "data": {
      "text/html": [
       "<style>#sk-container-id-1 {color: black;}#sk-container-id-1 pre{padding: 0;}#sk-container-id-1 div.sk-toggleable {background-color: white;}#sk-container-id-1 label.sk-toggleable__label {cursor: pointer;display: block;width: 100%;margin-bottom: 0;padding: 0.3em;box-sizing: border-box;text-align: center;}#sk-container-id-1 label.sk-toggleable__label-arrow:before {content: \"▸\";float: left;margin-right: 0.25em;color: #696969;}#sk-container-id-1 label.sk-toggleable__label-arrow:hover:before {color: black;}#sk-container-id-1 div.sk-estimator:hover label.sk-toggleable__label-arrow:before {color: black;}#sk-container-id-1 div.sk-toggleable__content {max-height: 0;max-width: 0;overflow: hidden;text-align: left;background-color: #f0f8ff;}#sk-container-id-1 div.sk-toggleable__content pre {margin: 0.2em;color: black;border-radius: 0.25em;background-color: #f0f8ff;}#sk-container-id-1 input.sk-toggleable__control:checked~div.sk-toggleable__content {max-height: 200px;max-width: 100%;overflow: auto;}#sk-container-id-1 input.sk-toggleable__control:checked~label.sk-toggleable__label-arrow:before {content: \"▾\";}#sk-container-id-1 div.sk-estimator input.sk-toggleable__control:checked~label.sk-toggleable__label {background-color: #d4ebff;}#sk-container-id-1 div.sk-label input.sk-toggleable__control:checked~label.sk-toggleable__label {background-color: #d4ebff;}#sk-container-id-1 input.sk-hidden--visually {border: 0;clip: rect(1px 1px 1px 1px);clip: rect(1px, 1px, 1px, 1px);height: 1px;margin: -1px;overflow: hidden;padding: 0;position: absolute;width: 1px;}#sk-container-id-1 div.sk-estimator {font-family: monospace;background-color: #f0f8ff;border: 1px dotted black;border-radius: 0.25em;box-sizing: border-box;margin-bottom: 0.5em;}#sk-container-id-1 div.sk-estimator:hover {background-color: #d4ebff;}#sk-container-id-1 div.sk-parallel-item::after {content: \"\";width: 100%;border-bottom: 1px solid gray;flex-grow: 1;}#sk-container-id-1 div.sk-label:hover label.sk-toggleable__label {background-color: #d4ebff;}#sk-container-id-1 div.sk-serial::before {content: \"\";position: absolute;border-left: 1px solid gray;box-sizing: border-box;top: 0;bottom: 0;left: 50%;z-index: 0;}#sk-container-id-1 div.sk-serial {display: flex;flex-direction: column;align-items: center;background-color: white;padding-right: 0.2em;padding-left: 0.2em;position: relative;}#sk-container-id-1 div.sk-item {position: relative;z-index: 1;}#sk-container-id-1 div.sk-parallel {display: flex;align-items: stretch;justify-content: center;background-color: white;position: relative;}#sk-container-id-1 div.sk-item::before, #sk-container-id-1 div.sk-parallel-item::before {content: \"\";position: absolute;border-left: 1px solid gray;box-sizing: border-box;top: 0;bottom: 0;left: 50%;z-index: -1;}#sk-container-id-1 div.sk-parallel-item {display: flex;flex-direction: column;z-index: 1;position: relative;background-color: white;}#sk-container-id-1 div.sk-parallel-item:first-child::after {align-self: flex-end;width: 50%;}#sk-container-id-1 div.sk-parallel-item:last-child::after {align-self: flex-start;width: 50%;}#sk-container-id-1 div.sk-parallel-item:only-child::after {width: 0;}#sk-container-id-1 div.sk-dashed-wrapped {border: 1px dashed gray;margin: 0 0.4em 0.5em 0.4em;box-sizing: border-box;padding-bottom: 0.4em;background-color: white;}#sk-container-id-1 div.sk-label label {font-family: monospace;font-weight: bold;display: inline-block;line-height: 1.2em;}#sk-container-id-1 div.sk-label-container {text-align: center;}#sk-container-id-1 div.sk-container {/* jupyter's `normalize.less` sets `[hidden] { display: none; }` but bootstrap.min.css set `[hidden] { display: none !important; }` so we also need the `!important` here to be able to override the default hidden behavior on the sphinx rendered scikit-learn.org. See: https://github.com/scikit-learn/scikit-learn/issues/21755 */display: inline-block !important;position: relative;}#sk-container-id-1 div.sk-text-repr-fallback {display: none;}</style><div id=\"sk-container-id-1\" class=\"sk-top-container\"><div class=\"sk-text-repr-fallback\"><pre>LogisticRegression()</pre><b>In a Jupyter environment, please rerun this cell to show the HTML representation or trust the notebook. <br />On GitHub, the HTML representation is unable to render, please try loading this page with nbviewer.org.</b></div><div class=\"sk-container\" hidden><div class=\"sk-item\"><div class=\"sk-estimator sk-toggleable\"><input class=\"sk-toggleable__control sk-hidden--visually\" id=\"sk-estimator-id-1\" type=\"checkbox\" checked><label for=\"sk-estimator-id-1\" class=\"sk-toggleable__label sk-toggleable__label-arrow\">LogisticRegression</label><div class=\"sk-toggleable__content\"><pre>LogisticRegression()</pre></div></div></div></div></div>"
      ],
      "text/plain": [
       "LogisticRegression()"
      ]
     },
     "execution_count": 8,
     "metadata": {},
     "output_type": "execute_result"
    }
   ],
   "source": [
    "model = LogisticRegression()\n",
    "model.fit(X_train, y_train)"
   ]
  },
  {
   "cell_type": "code",
   "execution_count": 9,
   "id": "83498dee",
   "metadata": {},
   "outputs": [
    {
     "name": "stdout",
     "output_type": "stream",
     "text": [
      "Confusion Matrix:\n",
      " [[1833 1516]\n",
      " [1013 3638]]\n",
      "\n",
      "Classification Report:\n",
      "               precision    recall  f1-score   support\n",
      "\n",
      "           0       0.64      0.55      0.59      3349\n",
      "           1       0.71      0.78      0.74      4651\n",
      "\n",
      "    accuracy                           0.68      8000\n",
      "   macro avg       0.67      0.66      0.67      8000\n",
      "weighted avg       0.68      0.68      0.68      8000\n",
      "\n"
     ]
    }
   ],
   "source": [
    "y_pred = model.predict(X_test)\n",
    "print(\"Confusion Matrix:\\n\", confusion_matrix(y_test, y_pred))\n",
    "print(\"\\nClassification Report:\\n\", classification_report(y_test, y_pred))"
   ]
  },
  {
   "cell_type": "code",
   "execution_count": 10,
   "id": "d090cf1b",
   "metadata": {},
   "outputs": [
    {
     "name": "stdout",
     "output_type": "stream",
     "text": [
      "\n",
      "Model Coefficients:\n",
      "CURR_AGE: -0.1269\n",
      "GENDER_ENC: 0.1091\n",
      "ANN_INCOME: 0.4047\n",
      "AGE_CAR: 0.8464\n"
     ]
    }
   ],
   "source": [
    "print(\"\\nModel Coefficients:\")\n",
    "for feat, coef in zip(features, model.coef_[0]):\n",
    "    print(f\"{feat}: {coef:.4f}\")"
   ]
  },
  {
   "cell_type": "code",
   "execution_count": 11,
   "id": "13ac3fc2",
   "metadata": {},
   "outputs": [],
   "source": [
    "indian_data['GENDER_ENC'] = le.transform(indian_data['GENDER'])"
   ]
  },
  {
   "cell_type": "code",
   "execution_count": 12,
   "id": "8552d8fd",
   "metadata": {},
   "outputs": [],
   "source": [
    "avg_age_car = japanese_data['AGE_CAR'].mean()\n",
    "indian_data['AGE_CAR'] = avg_age_car"
   ]
  },
  {
   "cell_type": "code",
   "execution_count": 13,
   "id": "3013ea59",
   "metadata": {},
   "outputs": [],
   "source": [
    "X_india = indian_data[['CURR_AGE', 'GENDER_ENC', 'ANN_INCOME', 'AGE_CAR']]\n",
    "X_india_scaled = scaler.transform(X_india)"
   ]
  },
  {
   "cell_type": "code",
   "execution_count": 14,
   "id": "5a4bff4f",
   "metadata": {},
   "outputs": [],
   "source": [
    "india_predictions = model.predict(X_india_scaled)\n",
    "indian_data['PREDICTED_PURCHASE'] = india_predictions"
   ]
  },
  {
   "cell_type": "code",
   "execution_count": 15,
   "id": "16361bf8",
   "metadata": {},
   "outputs": [
    {
     "name": "stdout",
     "output_type": "stream",
     "text": [
      "\n",
      "Likely Car Purchases in Indian Market: 69919 out of 70000\n"
     ]
    }
   ],
   "source": [
    "likely_buyers = indian_data['PREDICTED_PURCHASE'].sum()\n",
    "print(f\"\\nLikely Car Purchases in Indian Market: {likely_buyers} out of {len(indian_data)}\")"
   ]
  },
  {
   "cell_type": "code",
   "execution_count": 16,
   "id": "90743ff9",
   "metadata": {},
   "outputs": [],
   "source": [
    "indian_data.to_excel(\"Predicted_India.xlsx\", index=False)"
   ]
  },
  {
   "cell_type": "code",
   "execution_count": 18,
   "id": "f2ac429c",
   "metadata": {},
   "outputs": [],
   "source": [
    "import pandas as pd\n",
    "from datetime import datetime\n",
    "from sklearn.preprocessing import StandardScaler\n",
    "\n",
    "# Load Indian dataset\n",
    "indian_data = pd.read_excel(\"IN_Data.xlsx\")\n",
    "\n",
    "# Encode gender if not already done\n",
    "from sklearn.preprocessing import LabelEncoder\n",
    "le = LabelEncoder()\n",
    "indian_data['GENDER_ENC'] = le.fit_transform(indian_data['GENDER'])\n",
    "\n",
    "# Convert maintenance date and compute AGE_CAR\n",
    "indian_data['DT_MAINT'] = pd.to_datetime(indian_data['DT_MAINT'])\n",
    "today = pd.to_datetime(\"today\")\n",
    "indian_data['AGE_CAR'] = (today - indian_data['DT_MAINT']).dt.days // 30\n",
    "\n",
    "# Scale and predict using pre-trained model\n",
    "X_india_updated = indian_data[['CURR_AGE', 'GENDER_ENC', 'ANN_INCOME', 'AGE_CAR']]\n",
    "X_india_scaled_updated = scaler.transform(X_india_updated)\n",
    "\n",
    "# Predict\n",
    "indian_data['PREDICTED_PURCHASE'] = model.predict(X_india_scaled_updated)\n",
    "\n",
    "# Save the final output\n",
    "indian_data.to_excel(\"Corrected_Predicted_India.xlsx\", index=False)\n"
   ]
  },
  {
   "cell_type": "code",
   "execution_count": null,
   "id": "88168b99",
   "metadata": {},
   "outputs": [],
   "source": []
  }
 ],
 "metadata": {
  "kernelspec": {
   "display_name": "Python 3 (ipykernel)",
   "language": "python",
   "name": "python3"
  },
  "language_info": {
   "codemirror_mode": {
    "name": "ipython",
    "version": 3
   },
   "file_extension": ".py",
   "mimetype": "text/x-python",
   "name": "python",
   "nbconvert_exporter": "python",
   "pygments_lexer": "ipython3",
   "version": "3.11.5"
  }
 },
 "nbformat": 4,
 "nbformat_minor": 5
}
